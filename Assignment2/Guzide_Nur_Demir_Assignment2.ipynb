{
 "cells": [
  {
   "cell_type": "markdown",
   "metadata": {},
   "source": [
    "**Güzide Nur Demir**\n",
    "guzidedemir@std.sehir.edu.tr"
   ]
  },
  {
   "cell_type": "markdown",
   "metadata": {},
   "source": [
    "# EECS 461/ECE 523  | Assignment 2"
   ]
  },
  {
   "cell_type": "code",
   "execution_count": 1,
   "metadata": {
    "ExecuteTime": {
     "end_time": "2019-11-22T21:10:19.201922Z",
     "start_time": "2019-11-22T21:10:17.698759Z"
    }
   },
   "outputs": [],
   "source": [
    "import pandas as pd\n",
    "import numpy as np"
   ]
  },
  {
   "cell_type": "markdown",
   "metadata": {},
   "source": [
    "## DATA PREPARATION & VISUALIZATION "
   ]
  },
  {
   "cell_type": "code",
   "execution_count": 2,
   "metadata": {
    "ExecuteTime": {
     "end_time": "2019-11-22T21:51:26.919888Z",
     "start_time": "2019-11-22T21:51:26.912884Z"
    },
    "code_folding": [
     0
    ]
   },
   "outputs": [],
   "source": [
    "class_labels = [\n",
    "    \"T-shirt/top\",#0\n",
    "    \"Trouser\",#1\n",
    "    \"Pullover\",#2\n",
    "    \"Dress\",#3\n",
    "    \"Coat\",#4\n",
    "    \"Sandal\",#5\n",
    "    \"Shirt\",#6\n",
    "    \"Sneaker\",#7\n",
    "    \"Bag\",#8\n",
    "    \"Ankle boot\"#9\n",
    "]"
   ]
  },
  {
   "cell_type": "code",
   "execution_count": 3,
   "metadata": {},
   "outputs": [],
   "source": [
    "train = pd.read_csv(\"train.csv\")\n",
    "test = pd.read_csv(\"test.csv\")"
   ]
  },
  {
   "cell_type": "markdown",
   "metadata": {},
   "source": [
    "### a)  Split the data into X and y:"
   ]
  },
  {
   "cell_type": "code",
   "execution_count": 4,
   "metadata": {},
   "outputs": [],
   "source": [
    "train_x_a = train.drop(\"label\", axis=1)\n",
    "train_y = train[\"label\"].copy()\n",
    "test_x = test.drop(\"label\", axis=1)\n",
    "test_y = test[\"label\"].copy()"
   ]
  },
  {
   "cell_type": "code",
   "execution_count": 5,
   "metadata": {},
   "outputs": [
    {
     "data": {
      "text/plain": [
       "array([2, 9, 6, 0, 3, 4, 5, 8, 7, 1], dtype=int64)"
      ]
     },
     "execution_count": 5,
     "metadata": {},
     "output_type": "execute_result"
    }
   ],
   "source": [
    "train_y_unique = train_y.unique() #Get unique values in label column\n",
    "train_y_unique"
   ]
  },
  {
   "cell_type": "markdown",
   "metadata": {},
   "source": [
    "### b)  Visualizing the data:"
   ]
  },
  {
   "cell_type": "code",
   "execution_count": 6,
   "metadata": {},
   "outputs": [],
   "source": [
    "import matplotlib.pyplot as plt\n",
    "import matplotlib as mpl"
   ]
  },
  {
   "cell_type": "code",
   "execution_count": 7,
   "metadata": {
    "ExecuteTime": {
     "end_time": "2019-11-22T21:12:09.087761Z",
     "start_time": "2019-11-22T21:12:09.081918Z"
    }
   },
   "outputs": [],
   "source": [
    "def plot_image(row):\n",
    "    \"\"\"\n",
    "    This method plot given rows of pixels as 28x28 image by using numpy & matplotlib.\n",
    "    \"\"\"\n",
    "    image = np.array(row).reshape(28,28) # Resizes given pixel information\n",
    "    plt.imshow(image, cmap = mpl.cm.binary)\n",
    "    plt.axis(\"off\")"
   ]
  },
  {
   "cell_type": "code",
   "execution_count": 8,
   "metadata": {},
   "outputs": [
    {
     "data": {
      "image/png": "[encoded data removed]",
      "text/plain": [
       "<Figure size 432x288 with 1 Axes>"
      ]
     },
     "metadata": {
      "needs_background": "light"
     },
     "output_type": "display_data"
    }
   ],
   "source": [
    "plot_image(train_x_a.iloc[[30]]) # Plot image of 30th row"
   ]
  },
  {
   "cell_type": "markdown",
   "metadata": {},
   "source": [
    "### c) Class visualization:"
   ]
  },
  {
   "cell_type": "code",
   "execution_count": 9,
   "metadata": {},
   "outputs": [
    {
     "data": {
      "image/png": "[encoded data removed]",
      "text/plain": [
       "<Figure size 432x288 with 1 Axes>"
      ]
     },
     "metadata": {
      "needs_background": "light"
     },
     "output_type": "display_data"
    }
   ],
   "source": [
    "def plot_instances(train_set, y):\n",
    "    \"\"\"\n",
    "    This method plots images of 3 instances from each label in the given dataframe.\n",
    "    Train_set contains pixels while y contains class labels.\n",
    "    \"\"\"\n",
    "    for label in y:\n",
    "        filtered_df = train_set.loc[train_set['label'] == label] # Filter according to label\n",
    "        three_rows_df = filtered_df.iloc[:3] # Get 3 rows \n",
    "        dropped_df = three_rows_df.drop(columns=['label']) # Remove column for label info\n",
    "        for i, row in dropped_df.iterrows(): # Plot each row\n",
    "            plot_image(row)\n",
    "            \n",
    "plot_instances(train, train_y_unique)"
   ]
  },
  {
   "cell_type": "markdown",
   "metadata": {},
   "source": [
    "### d) Average visualization:"
   ]
  },
  {
   "cell_type": "code",
   "execution_count": 10,
   "metadata": {},
   "outputs": [
    {
     "data": {
      "image/png": "[encoded data removed]",
      "text/plain": [
       "<Figure size 432x288 with 1 Axes>"
      ]
     },
     "metadata": {
      "needs_background": "light"
     },
     "output_type": "display_data"
    }
   ],
   "source": [
    "def plot_means(train_set, y):\n",
    "    \"\"\"\n",
    "    This method plots images of means of each label in the given dataframe.\n",
    "    As in the above method, train_set contains pixels and y contains class labels.\n",
    "    \"\"\"\n",
    "    for label in y:\n",
    "        filtered_df = train_set.loc[train_set['label'] == label]\n",
    "        dropped_df = filtered_df.drop(columns=['label'])\n",
    "        mean_df = dropped_df.mean(axis=0) # Get mean by columns\n",
    "        plot_image(mean_df)\n",
    "        \n",
    "plot_means(train, train_y_unique)"
   ]
  },
  {
   "cell_type": "markdown",
   "metadata": {},
   "source": [
    "## BINARY CLASSIFICATION"
   ]
  },
  {
   "cell_type": "markdown",
   "metadata": {},
   "source": [
    "### e) Binary transformation:"
   ]
  },
  {
   "cell_type": "code",
   "execution_count": 11,
   "metadata": {},
   "outputs": [
    {
     "name": "stderr",
     "output_type": "stream",
     "text": [
      "C:\\ProgramData\\Anaconda3\\lib\\site-packages\\ipykernel_launcher.py:3: SettingWithCopyWarning: \n",
      "A value is trying to be set on a copy of a slice from a DataFrame.\n",
      "Try using .loc[row_indexer,col_indexer] = value instead\n",
      "\n",
      "See the caveats in the documentation: http://pandas.pydata.org/pandas-docs/stable/user_guide/indexing.html#returning-a-view-versus-a-copy\n",
      "  This is separate from the ipykernel package so we can avoid doing imports until\n",
      "C:\\ProgramData\\Anaconda3\\lib\\site-packages\\ipykernel_launcher.py:6: SettingWithCopyWarning: \n",
      "A value is trying to be set on a copy of a slice from a DataFrame.\n",
      "Try using .loc[row_indexer,col_indexer] = value instead\n",
      "\n",
      "See the caveats in the documentation: http://pandas.pydata.org/pandas-docs/stable/user_guide/indexing.html#returning-a-view-versus-a-copy\n",
      "  \n"
     ]
    }
   ],
   "source": [
    "filtered_label_1 = train.loc[train['label'].isin([0,1,2,3,4,6])] \n",
    "#filter train dataframe, set label 1 if they are in clothing items\n",
    "filtered_label_1['label'] = 1\n",
    "\n",
    "filtered_label_0 = train.loc[train['label'].isin([5,7,8,9])]\n",
    "filtered_label_0['label'] = 0"
   ]
  },
  {
   "cell_type": "code",
   "execution_count": 12,
   "metadata": {},
   "outputs": [
    {
     "data": {
      "text/plain": [
       "0        1\n",
       "1        1\n",
       "2        1\n",
       "3        1\n",
       "4        1\n",
       "        ..\n",
       "29996    0\n",
       "29997    0\n",
       "29998    0\n",
       "29999    0\n",
       "30000    0\n",
       "Name: label, Length: 30001, dtype: int64"
      ]
     },
     "execution_count": 12,
     "metadata": {},
     "output_type": "execute_result"
    }
   ],
   "source": [
    "train_y_e = filtered_label_1.append(filtered_label_0, ignore_index=True) #Merge two labeled train dataframes into one\n",
    "train_y_e = train_y_e['label'] #Get only label column\n",
    "train_y_e"
   ]
  },
  {
   "cell_type": "code",
   "execution_count": 13,
   "metadata": {},
   "outputs": [
    {
     "name": "stderr",
     "output_type": "stream",
     "text": [
      "C:\\ProgramData\\Anaconda3\\lib\\site-packages\\ipykernel_launcher.py:2: SettingWithCopyWarning: \n",
      "A value is trying to be set on a copy of a slice from a DataFrame.\n",
      "Try using .loc[row_indexer,col_indexer] = value instead\n",
      "\n",
      "See the caveats in the documentation: http://pandas.pydata.org/pandas-docs/stable/user_guide/indexing.html#returning-a-view-versus-a-copy\n",
      "  \n",
      "C:\\ProgramData\\Anaconda3\\lib\\site-packages\\ipykernel_launcher.py:6: SettingWithCopyWarning: \n",
      "A value is trying to be set on a copy of a slice from a DataFrame.\n",
      "Try using .loc[row_indexer,col_indexer] = value instead\n",
      "\n",
      "See the caveats in the documentation: http://pandas.pydata.org/pandas-docs/stable/user_guide/indexing.html#returning-a-view-versus-a-copy\n",
      "  \n"
     ]
    },
    {
     "data": {
      "text/plain": [
       "0       1\n",
       "1       1\n",
       "2       1\n",
       "3       1\n",
       "4       1\n",
       "       ..\n",
       "4996    0\n",
       "4997    0\n",
       "4998    0\n",
       "4999    0\n",
       "5000    0\n",
       "Name: label, Length: 5001, dtype: int64"
      ]
     },
     "execution_count": 13,
     "metadata": {},
     "output_type": "execute_result"
    }
   ],
   "source": [
    "filtered_label_test1 = test.loc[test['label'].isin([0,1,2,3,4,6])] \n",
    "filtered_label_test1['label'] = 1\n",
    "#Filter test dataframe, set label 1 if they are in clothing items\n",
    "\n",
    "filtered_label_test0 = test.loc[test['label'].isin([5,7,8,9])]\n",
    "filtered_label_test0['label'] = 0\n",
    "\n",
    "test_y_f = filtered_label_test1.append(filtered_label_test0, ignore_index=True) #append two labeled test dataframes into one\n",
    "test_y_f = test_y_f['label']\n",
    "test_y_f"
   ]
  },
  {
   "cell_type": "markdown",
   "metadata": {},
   "source": [
    "### f) Binary Classification Model"
   ]
  },
  {
   "cell_type": "code",
   "execution_count": 14,
   "metadata": {},
   "outputs": [],
   "source": [
    "from sklearn.linear_model import LogisticRegression\n",
    "from sklearn.model_selection import cross_val_score"
   ]
  },
  {
   "cell_type": "code",
   "execution_count": 15,
   "metadata": {},
   "outputs": [
    {
     "name": "stderr",
     "output_type": "stream",
     "text": [
      "C:\\ProgramData\\Anaconda3\\lib\\site-packages\\sklearn\\linear_model\\logistic.py:432: FutureWarning: Default solver will be changed to 'lbfgs' in 0.22. Specify a solver to silence this warning.\n",
      "  FutureWarning)\n"
     ]
    },
    {
     "data": {
      "text/plain": [
       "LogisticRegression(C=1.0, class_weight=None, dual=False, fit_intercept=True,\n",
       "                   intercept_scaling=1, l1_ratio=None, max_iter=100,\n",
       "                   multi_class='warn', n_jobs=None, penalty='l2',\n",
       "                   random_state=0, solver='warn', tol=0.0001, verbose=0,\n",
       "                   warm_start=False)"
      ]
     },
     "execution_count": 15,
     "metadata": {},
     "output_type": "execute_result"
    }
   ],
   "source": [
    "# create model, train it and perform 5 fold cross validation.\n",
    "logistic_reg = LogisticRegression(random_state=0) #create logistic Regression model\n",
    "logistic_reg.fit(train_x_a, train_y_e) #fit the model"
   ]
  },
  {
   "cell_type": "code",
   "execution_count": null,
   "metadata": {},
   "outputs": [
    {
     "name": "stderr",
     "output_type": "stream",
     "text": [
      "C:\\ProgramData\\Anaconda3\\lib\\site-packages\\sklearn\\linear_model\\logistic.py:432: FutureWarning: Default solver will be changed to 'lbfgs' in 0.22. Specify a solver to silence this warning.\n",
      "  FutureWarning)\n",
      "C:\\ProgramData\\Anaconda3\\lib\\site-packages\\sklearn\\linear_model\\logistic.py:432: FutureWarning: Default solver will be changed to 'lbfgs' in 0.22. Specify a solver to silence this warning.\n",
      "  FutureWarning)\n"
     ]
    }
   ],
   "source": [
    "mean_accuracy = cross_val_score(logistic_reg, train_x_a, train_y_e, cv=5, scoring=\"accuracy\").mean() \n",
    "#Compute mean accuracy by using cross validation \n",
    "print(mean_accuracy)"
   ]
  },
  {
   "cell_type": "markdown",
   "metadata": {},
   "source": [
    "### g) Predict test data:"
   ]
  },
  {
   "cell_type": "code",
   "execution_count": null,
   "metadata": {},
   "outputs": [],
   "source": [
    "from sklearn.metrics import confusion_matrix,precision_score, recall_score, accuracy_score, f1_score"
   ]
  },
  {
   "cell_type": "code",
   "execution_count": null,
   "metadata": {},
   "outputs": [],
   "source": [
    "# the model\n",
    "prediction = logistic_reg.predict(test_x) #Couldn't train it again due to memory error...\n",
    "# confusion matrix\n",
    "confusion = confusion_matrix(test_y_f, prediction)\n",
    "print(confusion)\n",
    "# accuracy, precision, recall, f1_score\n",
    "accuracy = accuracy_score(test_y_f, prediction)\n",
    "precision = precision_score(test_y_f, prediction)\n",
    "recall = recall_score(test_y_f, prediction)\n",
    "f1 = f1_score(test_y_f, prediction)\n",
    "print(accuracy, precision, recall, f1)"
   ]
  },
  {
   "cell_type": "markdown",
   "metadata": {},
   "source": [
    "### h) Model evaluation:\n"
   ]
  },
  {
   "cell_type": "code",
   "execution_count": 24,
   "metadata": {},
   "outputs": [],
   "source": [
    "from sklearn.metrics import precision_recall_curve, roc_curve, roc_auc_score"
   ]
  },
  {
   "cell_type": "code",
   "execution_count": 27,
   "metadata": {
    "ExecuteTime": {
     "end_time": "2019-11-22T21:25:45.419533Z",
     "start_time": "2019-11-22T21:25:45.412534Z"
    }
   },
   "outputs": [
    {
     "data": {
      "image/png": "[encoded data removed]",
      "text/plain": [
       "<Figure size 576x432 with 1 Axes>"
      ]
     },
     "metadata": {
      "needs_background": "light"
     },
     "output_type": "display_data"
    }
   ],
   "source": [
    "# precision-recall curve\n",
    "precisions, recalls, thresholds = precision_recall_curve(test_y_f, prediction) #define precision, recall and threshold\n",
    "\n",
    "def plot_precision_vs_recall(precisions, recalls): #plot the precision recall curve as being in the book\n",
    "    plt.plot(recalls, precisions, \"b-\", linewidth=2)\n",
    "    plt.xlabel(\"Recall\", fontsize=16) \n",
    "    plt.ylabel(\"Precision\", fontsize=16)\n",
    "    plt.axis([0, 1, 0, 1])\n",
    "\n",
    "plt.figure(figsize=(8, 6))\n",
    "plot_precision_vs_recall(precisions, recalls)\n",
    "plt.show()"
   ]
  },
  {
   "cell_type": "code",
   "execution_count": 29,
   "metadata": {},
   "outputs": [
    {
     "data": {
      "image/png": "[encoded data removed]",
      "text/plain": [
       "<Figure size 576x432 with 1 Axes>"
      ]
     },
     "metadata": {
      "needs_background": "light"
     },
     "output_type": "display_data"
    }
   ],
   "source": [
    "# ROC curve\n",
    "fpr, tpr, thresholds = roc_curve(test_y_f, prediction) #define the parameters of roc curve\n",
    "def plot_roc_curve(fpr, tpr, label=None): #plot the roc curve with false positive and true positive rates\n",
    "    plt.plot(fpr, tpr, linewidth=2, label=label)\n",
    "    plt.plot([0, 1], [0, 1], 'k--')\n",
    "    plt.axis([0, 1, 0, 1])\n",
    "    plt.xlabel('False Positive Rate', fontsize=16)\n",
    "    plt.ylabel('True Positive Rate', fontsize=16)\n",
    "\n",
    "plt.figure(figsize=(8, 6))\n",
    "plot_roc_curve(fpr, tpr)\n",
    "plt.show()"
   ]
  },
  {
   "cell_type": "code",
   "execution_count": 31,
   "metadata": {},
   "outputs": [
    {
     "name": "stdout",
     "output_type": "stream",
     "text": [
      "0.49023512848647\n"
     ]
    }
   ],
   "source": [
    "# AUC score\n",
    "auc_score = roc_auc_score(test_y_f, prediction) #compute the area under the roc curve\n",
    "print(auc_score)"
   ]
  },
  {
   "cell_type": "markdown",
   "metadata": {},
   "source": [
    "### i) Learning curves:"
   ]
  },
  {
   "cell_type": "code",
   "execution_count": 32,
   "metadata": {},
   "outputs": [],
   "source": [
    "# learning curve\n",
    "\n",
    "# TODO"
   ]
  },
  {
   "cell_type": "markdown",
   "metadata": {},
   "source": [
    "## MULTICLASS CLASSIFICATION USING LOGISTIC REGRESSION"
   ]
  },
  {
   "cell_type": "markdown",
   "metadata": {},
   "source": [
    "### j) Training and cross validating logistic regression:"
   ]
  },
  {
   "cell_type": "code",
   "execution_count": null,
   "metadata": {
    "ExecuteTime": {
     "end_time": "2019-11-22T21:27:57.382480Z",
     "start_time": "2019-11-22T21:27:57.378402Z"
    }
   },
   "outputs": [],
   "source": [
    "# 3 fold Cross Validation on train_x_a and train_y\n",
    "cross_val = cross_val_score(logistic_reg, train_x_a, train_y, cv=3, scoring=\"accuracy\")\n",
    "mean_cross_val_accuracy = cross_val.mean() #mean of the accuracy\n",
    "print(mean_cross_val_accuracy)"
   ]
  },
  {
   "cell_type": "markdown",
   "metadata": {},
   "source": [
    "### k) Testing logistic regression:"
   ]
  },
  {
   "cell_type": "code",
   "execution_count": null,
   "metadata": {
    "ExecuteTime": {
     "end_time": "2019-11-22T21:28:35.454236Z",
     "start_time": "2019-11-22T21:28:35.448644Z"
    }
   },
   "outputs": [],
   "source": [
    "# fit a new model\n",
    "logistic_reg_2 = LogisticRegression(random_state=0)\n",
    "logistic_reg_2.fit(train_x_a, train_y)\n",
    "# test model\n",
    "test_accuracy = logistic_reg_2.score(test_x, test_y)\n",
    "# confusion matrix\n",
    "prediction_2 = logistic_reg_2.predict(test_x)\n",
    "conf_matrix = confusion_matrix(test_y, prediction_2)\n",
    "print(conf_matrix)"
   ]
  },
  {
   "cell_type": "markdown",
   "metadata": {},
   "source": [
    "## MULTICLASS CLASSIFICATION USING SVR"
   ]
  },
  {
   "cell_type": "markdown",
   "metadata": {},
   "source": [
    "### l) Grid search to find best model:"
   ]
  },
  {
   "cell_type": "code",
   "execution_count": null,
   "metadata": {},
   "outputs": [],
   "source": [
    "from sklearn.model_selection import GridSearchCV\n",
    "from sklearn.svm import SVC"
   ]
  },
  {
   "cell_type": "code",
   "execution_count": null,
   "metadata": {},
   "outputs": [],
   "source": [
    "svc_estimator = SVC(gamma='auto') #Create SVC model\n",
    "grid = [\n",
    "  {'C': [0.1, 0.5, 1, 5, 10 ], 'kernel': ['linear', 'rbf', 'poly'],\n",
    "   'tol': [0.000, 0.001, 0.1], 'decision_function_shape':['ovo', 'ovr']} #Define grid parameters\n",
    " ]\n",
    "grid_search = GridSearchCV(estimator=svc_estimator, param_grid=grid, cv=5) #Create GridSearch model with SVC model\n",
    "grid_search.fit(train_x_a, train_y)\n",
    "\n",
    "best_parameter = grid_search.best_params_ #Take the best parameters by using grid search\n",
    "print(best_parameter)\n",
    "best_accuracy = grid_search.best_score_ #Take the best accuracy score by using grid search\n",
    "print(best_accuracy)"
   ]
  },
  {
   "cell_type": "markdown",
   "metadata": {},
   "source": [
    "### m) Testing the best model:"
   ]
  },
  {
   "cell_type": "code",
   "execution_count": null,
   "metadata": {},
   "outputs": [],
   "source": [
    "#Could not select find the best parameters because of the memory error that I got from part g.\n",
    "svc_best = SVC(tol=, \n",
    "               C=, \n",
    "               kernel=, \n",
    "               decision_function_shape=) #Best parameters determined by GridSearchCV are selected\n",
    "svc_best.fit(train_x_a, train_y)\n",
    "test_accuracy_best = svc_best.score(test_x, test_y) #take the best test accuracy\n",
    "print(test_accuracy_best)\n",
    "prediction_best = svc_best.predict(test_x) \n",
    "confusion_matrix_best = confusion_matrix(test_y, prediction_best) #create confision matrix\n",
    "print(confusion_matrix_best)"
   ]
  },
  {
   "cell_type": "markdown",
   "metadata": {},
   "source": [
    "## MULTICLASS CLASSIFICATION USING DECISION TREES"
   ]
  },
  {
   "cell_type": "markdown",
   "metadata": {},
   "source": [
    "### n) Grid Search to find best model:"
   ]
  },
  {
   "cell_type": "code",
   "execution_count": null,
   "metadata": {},
   "outputs": [],
   "source": [
    "from sklearn import tree"
   ]
  },
  {
   "cell_type": "code",
   "execution_count": null,
   "metadata": {},
   "outputs": [],
   "source": [
    "decision_tree = tree.DecisionTreeClassifier() #Create Decision Tree model\n",
    "decision_tree.fit(train_x_a, train_y)\n",
    "grid_tree = [\n",
    "  {'max_depth': [2, 4, 10], 'min_samples_split': [2, 3, 4]} #Define grid parameters\n",
    " ]\n",
    "\n",
    "grid_search_tree = GridSearchCv(estimator=decision_tree, param_grid=grid_tree, cv=5) #Use Grid Search model usin decision tree model\n",
    "grid_search_tree.fit(train_x_a, train_y)\n",
    "tree_param =  grid_search_tree.best_params_ #take the best parameters from the model\n",
    "print(tree_param)\n",
    "tree_accuracy = grid_search_tree.best_score_ #take the best accuracy score from the model\n",
    "print(tree_accuracy)"
   ]
  },
  {
   "cell_type": "markdown",
   "metadata": {},
   "source": [
    "### o) Testing the best model:"
   ]
  },
  {
   "cell_type": "code",
   "execution_count": 6,
   "metadata": {
    "ExecuteTime": {
     "end_time": "2019-11-22T21:31:29.288688Z",
     "start_time": "2019-11-22T21:31:29.282690Z"
    }
   },
   "outputs": [],
   "source": [
    "# test accuracy\n",
    "tree_best = tree.DecisionTreeClassifier(max_depth=, \n",
    "                                        min_samples_split=) #Train the new model with best parameters that I could not found because of the memory issue.\n",
    "tree_best.fit(train_x_a, train_y)\n",
    "test_accuracy = tree_best.score(test_x, test_y) #take the best accuracy using test set.\n",
    "print(test_accuracy)\n",
    "\n",
    "# confusion matrix\n",
    "tree_prediction = tree_best.predict(test_x)\n",
    "tree_conf_matrix_best = tree_best.confusion_matrix(test_y, tree_prediction) #compute the confision matrix using test set\n",
    "print(tree_conf_matrix_best)"
   ]
  }
 ],
 "metadata": {
  "kernelspec": {
   "display_name": "Python 3",
   "language": "python",
   "name": "python3"
  },
  "language_info": {
   "codemirror_mode": {
    "name": "ipython",
    "version": 3
   },
   "file_extension": ".py",
   "mimetype": "text/x-python",
   "name": "python",
   "nbconvert_exporter": "python",
   "pygments_lexer": "ipython3",
   "version": "3.7.4"
  },
  "toc": {
   "base_numbering": 1,
   "nav_menu": {},
   "number_sections": false,
   "sideBar": true,
   "skip_h1_title": false,
   "title_cell": "Table of Contents",
   "title_sidebar": "Contents",
   "toc_cell": false,
   "toc_position": {
    "height": "calc(100% - 180px)",
    "left": "10px",
    "top": "150px",
    "width": "284.444px"
   },
   "toc_section_display": true,
   "toc_window_display": false
  },
  "varInspector": {
   "cols": {
    "lenName": 16,
    "lenType": 16,
    "lenVar": 40
   },
   "kernels_config": {
    "python": {
     "delete_cmd_postfix": "",
     "delete_cmd_prefix": "del ",
     "library": "var_list.py",
     "varRefreshCmd": "print(var_dic_list())"
    },
    "r": {
     "delete_cmd_postfix": ") ",
     "delete_cmd_prefix": "rm(",
     "library": "var_list.r",
     "varRefreshCmd": "cat(var_dic_list()) "
    }
   },
   "types_to_exclude": [
    "module",
    "function",
    "builtin_function_or_method",
    "instance",
    "_Feature"
   ],
   "window_display": false
  }
 },
 "nbformat": 4,
 "nbformat_minor": 2
}
