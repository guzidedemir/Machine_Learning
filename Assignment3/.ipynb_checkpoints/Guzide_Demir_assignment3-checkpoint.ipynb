{
 "cells": [
  {
   "cell_type": "markdown",
   "metadata": {},
   "source": [
    "**Notes**:\n",
    "* Feel free to add cells as you need them.\n",
    "* Keep your code clean and readable.\n",
    "* Comments included in this document are just to summarize the question. For full details make sure you read the assignment pdf thoroughly.\n",
    "* Don't forget to rename the file when you finish"
   ]
  },
  {
   "cell_type": "markdown",
   "metadata": {},
   "source": [
    "# EECS 461/ECE 523  | Assignment 3"
   ]
  },
  {
   "cell_type": "code",
   "execution_count": 470,
   "metadata": {
    "ExecuteTime": {
     "end_time": "2019-11-22T21:10:19.201922Z",
     "start_time": "2019-11-22T21:10:17.698759Z"
    }
   },
   "outputs": [],
   "source": [
    "import pandas as pd"
   ]
  },
  {
   "cell_type": "code",
   "execution_count": 471,
   "metadata": {},
   "outputs": [],
   "source": [
    "train = pd.read_csv(\"training.csv\")\n",
    "test = pd.read_csv(\"test.csv\")"
   ]
  },
  {
   "cell_type": "code",
   "execution_count": 472,
   "metadata": {},
   "outputs": [],
   "source": [
    "train_x = train.drop(\"price\", axis = 1) #created variables same with the first assignemnt.\n",
    "train_y = train[\"price\"]\n",
    "median = train_x.median()\n",
    "\n",
    "train_x_a = train_x.fillna(median)\n",
    "price_null_index = train_y[train_y.isnull()].index\n",
    "train_x_a.drop(price_null_index, inplace=True)\n",
    "train_y.drop(price_null_index, inplace=True)"
   ]
  },
  {
   "cell_type": "code",
   "execution_count": 473,
   "metadata": {},
   "outputs": [
    {
     "data": {
      "text/html": [
       "<div>\n",
       "<style scoped>\n",
       "    .dataframe tbody tr th:only-of-type {\n",
       "        vertical-align: middle;\n",
       "    }\n",
       "\n",
       "    .dataframe tbody tr th {\n",
       "        vertical-align: top;\n",
       "    }\n",
       "\n",
       "    .dataframe thead th {\n",
       "        text-align: right;\n",
       "    }\n",
       "</style>\n",
       "<table border=\"1\" class=\"dataframe\">\n",
       "  <thead>\n",
       "    <tr style=\"text-align: right;\">\n",
       "      <th></th>\n",
       "      <th>wheelbase</th>\n",
       "      <th>carlength</th>\n",
       "      <th>carwidth</th>\n",
       "      <th>carheight</th>\n",
       "      <th>curbweight</th>\n",
       "      <th>enginesize</th>\n",
       "      <th>boreratio</th>\n",
       "      <th>stroke</th>\n",
       "      <th>compressionratio</th>\n",
       "      <th>horsepower</th>\n",
       "      <th>...</th>\n",
       "      <th>cylindernumber_three</th>\n",
       "      <th>cylindernumber_twelve</th>\n",
       "      <th>cylindernumber_two</th>\n",
       "      <th>fuelsystem_1bbl</th>\n",
       "      <th>fuelsystem_2bbl</th>\n",
       "      <th>fuelsystem_4bbl</th>\n",
       "      <th>fuelsystem_idi</th>\n",
       "      <th>fuelsystem_mfi</th>\n",
       "      <th>fuelsystem_mpfi</th>\n",
       "      <th>fuelsystem_spdi</th>\n",
       "    </tr>\n",
       "  </thead>\n",
       "  <tbody>\n",
       "    <tr>\n",
       "      <td>0</td>\n",
       "      <td>104.3</td>\n",
       "      <td>188.8</td>\n",
       "      <td>67.20</td>\n",
       "      <td>56.2</td>\n",
       "      <td>2410.0</td>\n",
       "      <td>141.0</td>\n",
       "      <td>3.31</td>\n",
       "      <td>3.15</td>\n",
       "      <td>9.5</td>\n",
       "      <td>114.0</td>\n",
       "      <td>...</td>\n",
       "      <td>0</td>\n",
       "      <td>0</td>\n",
       "      <td>0</td>\n",
       "      <td>0</td>\n",
       "      <td>0</td>\n",
       "      <td>0</td>\n",
       "      <td>0</td>\n",
       "      <td>0</td>\n",
       "      <td>1</td>\n",
       "      <td>0</td>\n",
       "    </tr>\n",
       "    <tr>\n",
       "      <td>1</td>\n",
       "      <td>94.5</td>\n",
       "      <td>170.2</td>\n",
       "      <td>63.80</td>\n",
       "      <td>53.5</td>\n",
       "      <td>2024.0</td>\n",
       "      <td>97.0</td>\n",
       "      <td>3.15</td>\n",
       "      <td>3.29</td>\n",
       "      <td>9.4</td>\n",
       "      <td>69.0</td>\n",
       "      <td>...</td>\n",
       "      <td>0</td>\n",
       "      <td>0</td>\n",
       "      <td>0</td>\n",
       "      <td>0</td>\n",
       "      <td>1</td>\n",
       "      <td>0</td>\n",
       "      <td>0</td>\n",
       "      <td>0</td>\n",
       "      <td>0</td>\n",
       "      <td>0</td>\n",
       "    </tr>\n",
       "    <tr>\n",
       "      <td>2</td>\n",
       "      <td>94.5</td>\n",
       "      <td>165.3</td>\n",
       "      <td>63.80</td>\n",
       "      <td>54.5</td>\n",
       "      <td>1938.0</td>\n",
       "      <td>110.0</td>\n",
       "      <td>3.15</td>\n",
       "      <td>3.29</td>\n",
       "      <td>9.4</td>\n",
       "      <td>69.0</td>\n",
       "      <td>...</td>\n",
       "      <td>0</td>\n",
       "      <td>0</td>\n",
       "      <td>0</td>\n",
       "      <td>0</td>\n",
       "      <td>1</td>\n",
       "      <td>0</td>\n",
       "      <td>0</td>\n",
       "      <td>0</td>\n",
       "      <td>0</td>\n",
       "      <td>0</td>\n",
       "    </tr>\n",
       "    <tr>\n",
       "      <td>3</td>\n",
       "      <td>104.5</td>\n",
       "      <td>187.8</td>\n",
       "      <td>66.50</td>\n",
       "      <td>54.1</td>\n",
       "      <td>2410.0</td>\n",
       "      <td>171.0</td>\n",
       "      <td>3.27</td>\n",
       "      <td>3.35</td>\n",
       "      <td>9.2</td>\n",
       "      <td>156.0</td>\n",
       "      <td>...</td>\n",
       "      <td>0</td>\n",
       "      <td>0</td>\n",
       "      <td>0</td>\n",
       "      <td>0</td>\n",
       "      <td>0</td>\n",
       "      <td>0</td>\n",
       "      <td>0</td>\n",
       "      <td>0</td>\n",
       "      <td>1</td>\n",
       "      <td>0</td>\n",
       "    </tr>\n",
       "    <tr>\n",
       "      <td>4</td>\n",
       "      <td>93.7</td>\n",
       "      <td>167.3</td>\n",
       "      <td>65.45</td>\n",
       "      <td>50.8</td>\n",
       "      <td>1989.0</td>\n",
       "      <td>90.0</td>\n",
       "      <td>2.97</td>\n",
       "      <td>3.23</td>\n",
       "      <td>9.4</td>\n",
       "      <td>68.0</td>\n",
       "      <td>...</td>\n",
       "      <td>0</td>\n",
       "      <td>0</td>\n",
       "      <td>0</td>\n",
       "      <td>0</td>\n",
       "      <td>1</td>\n",
       "      <td>0</td>\n",
       "      <td>0</td>\n",
       "      <td>0</td>\n",
       "      <td>0</td>\n",
       "      <td>0</td>\n",
       "    </tr>\n",
       "  </tbody>\n",
       "</table>\n",
       "<p>5 rows × 49 columns</p>\n",
       "</div>"
      ],
      "text/plain": [
       "   wheelbase  carlength  carwidth  carheight  curbweight  enginesize  \\\n",
       "0      104.3      188.8     67.20       56.2      2410.0       141.0   \n",
       "1       94.5      170.2     63.80       53.5      2024.0        97.0   \n",
       "2       94.5      165.3     63.80       54.5      1938.0       110.0   \n",
       "3      104.5      187.8     66.50       54.1      2410.0       171.0   \n",
       "4       93.7      167.3     65.45       50.8      1989.0        90.0   \n",
       "\n",
       "   boreratio  stroke  compressionratio  horsepower  ...  cylindernumber_three  \\\n",
       "0       3.31    3.15               9.5       114.0  ...                     0   \n",
       "1       3.15    3.29               9.4        69.0  ...                     0   \n",
       "2       3.15    3.29               9.4        69.0  ...                     0   \n",
       "3       3.27    3.35               9.2       156.0  ...                     0   \n",
       "4       2.97    3.23               9.4        68.0  ...                     0   \n",
       "\n",
       "   cylindernumber_twelve  cylindernumber_two  fuelsystem_1bbl  \\\n",
       "0                      0                   0                0   \n",
       "1                      0                   0                0   \n",
       "2                      0                   0                0   \n",
       "3                      0                   0                0   \n",
       "4                      0                   0                0   \n",
       "\n",
       "   fuelsystem_2bbl  fuelsystem_4bbl  fuelsystem_idi  fuelsystem_mfi  \\\n",
       "0                0                0               0               0   \n",
       "1                1                0               0               0   \n",
       "2                1                0               0               0   \n",
       "3                0                0               0               0   \n",
       "4                1                0               0               0   \n",
       "\n",
       "   fuelsystem_mpfi  fuelsystem_spdi  \n",
       "0                1                0  \n",
       "1                0                0  \n",
       "2                0                0  \n",
       "3                1                0  \n",
       "4                0                0  \n",
       "\n",
       "[5 rows x 49 columns]"
      ]
     },
     "execution_count": 473,
     "metadata": {},
     "output_type": "execute_result"
    }
   ],
   "source": [
    "train_x_d = pd.get_dummies(train_x_a) #get the dummy variable as in the first assignment.\n",
    "train_x_d.head()"
   ]
  },
  {
   "cell_type": "code",
   "execution_count": 474,
   "metadata": {},
   "outputs": [],
   "source": [
    "from sklearn.preprocessing import StandardScaler"
   ]
  },
  {
   "cell_type": "code",
   "execution_count": 475,
   "metadata": {},
   "outputs": [
    {
     "data": {
      "text/html": [
       "<div>\n",
       "<style scoped>\n",
       "    .dataframe tbody tr th:only-of-type {\n",
       "        vertical-align: middle;\n",
       "    }\n",
       "\n",
       "    .dataframe tbody tr th {\n",
       "        vertical-align: top;\n",
       "    }\n",
       "\n",
       "    .dataframe thead th {\n",
       "        text-align: right;\n",
       "    }\n",
       "</style>\n",
       "<table border=\"1\" class=\"dataframe\">\n",
       "  <thead>\n",
       "    <tr style=\"text-align: right;\">\n",
       "      <th></th>\n",
       "      <th>wheelbase</th>\n",
       "      <th>carlength</th>\n",
       "      <th>carwidth</th>\n",
       "      <th>carheight</th>\n",
       "      <th>curbweight</th>\n",
       "      <th>enginesize</th>\n",
       "      <th>boreratio</th>\n",
       "      <th>stroke</th>\n",
       "      <th>compressionratio</th>\n",
       "      <th>horsepower</th>\n",
       "      <th>...</th>\n",
       "      <th>cylindernumber_three</th>\n",
       "      <th>cylindernumber_twelve</th>\n",
       "      <th>cylindernumber_two</th>\n",
       "      <th>fuelsystem_1bbl</th>\n",
       "      <th>fuelsystem_2bbl</th>\n",
       "      <th>fuelsystem_4bbl</th>\n",
       "      <th>fuelsystem_idi</th>\n",
       "      <th>fuelsystem_mfi</th>\n",
       "      <th>fuelsystem_mpfi</th>\n",
       "      <th>fuelsystem_spdi</th>\n",
       "    </tr>\n",
       "  </thead>\n",
       "  <tbody>\n",
       "    <tr>\n",
       "      <td>0</td>\n",
       "      <td>1.040486</td>\n",
       "      <td>1.218356</td>\n",
       "      <td>0.697865</td>\n",
       "      <td>1.106358</td>\n",
       "      <td>-0.204044</td>\n",
       "      <td>0.427546</td>\n",
       "      <td>-0.000506</td>\n",
       "      <td>-0.298040</td>\n",
       "      <td>-0.115772</td>\n",
       "      <td>0.312992</td>\n",
       "      <td>...</td>\n",
       "      <td>0</td>\n",
       "      <td>0</td>\n",
       "      <td>0</td>\n",
       "      <td>0</td>\n",
       "      <td>0</td>\n",
       "      <td>0</td>\n",
       "      <td>0</td>\n",
       "      <td>0</td>\n",
       "      <td>1</td>\n",
       "      <td>0</td>\n",
       "    </tr>\n",
       "    <tr>\n",
       "      <td>1</td>\n",
       "      <td>-0.729389</td>\n",
       "      <td>-0.266100</td>\n",
       "      <td>-1.003614</td>\n",
       "      <td>-0.087277</td>\n",
       "      <td>-0.969288</td>\n",
       "      <td>-0.679464</td>\n",
       "      <td>-0.628165</td>\n",
       "      <td>0.134277</td>\n",
       "      <td>-0.142667</td>\n",
       "      <td>-0.909358</td>\n",
       "      <td>...</td>\n",
       "      <td>0</td>\n",
       "      <td>0</td>\n",
       "      <td>0</td>\n",
       "      <td>0</td>\n",
       "      <td>1</td>\n",
       "      <td>0</td>\n",
       "      <td>0</td>\n",
       "      <td>0</td>\n",
       "      <td>0</td>\n",
       "      <td>0</td>\n",
       "    </tr>\n",
       "  </tbody>\n",
       "</table>\n",
       "<p>2 rows × 49 columns</p>\n",
       "</div>"
      ],
      "text/plain": [
       "   wheelbase  carlength  carwidth  carheight  curbweight  enginesize  \\\n",
       "0   1.040486   1.218356  0.697865   1.106358   -0.204044    0.427546   \n",
       "1  -0.729389  -0.266100 -1.003614  -0.087277   -0.969288   -0.679464   \n",
       "\n",
       "   boreratio    stroke  compressionratio  horsepower  ...  \\\n",
       "0  -0.000506 -0.298040         -0.115772    0.312992  ...   \n",
       "1  -0.628165  0.134277         -0.142667   -0.909358  ...   \n",
       "\n",
       "   cylindernumber_three  cylindernumber_twelve  cylindernumber_two  \\\n",
       "0                     0                      0                   0   \n",
       "1                     0                      0                   0   \n",
       "\n",
       "   fuelsystem_1bbl  fuelsystem_2bbl  fuelsystem_4bbl  fuelsystem_idi  \\\n",
       "0                0                0                0               0   \n",
       "1                0                1                0               0   \n",
       "\n",
       "   fuelsystem_mfi  fuelsystem_mpfi  fuelsystem_spdi  \n",
       "0               0                1                0  \n",
       "1               0                0                0  \n",
       "\n",
       "[2 rows x 49 columns]"
      ]
     },
     "execution_count": 475,
     "metadata": {},
     "output_type": "execute_result"
    }
   ],
   "source": [
    "continuous_columns = [i for i in train_x_a if i not in  list(train_x_a.columns[train_x_a.dtypes == 'object'])]\n",
    "\n",
    "sc = StandardScaler()\n",
    "sc.fit(train_x_d[continuous_columns])# Only fit the scaler, not fit_transform. This is so we can use the same scaler for the test data.\n",
    "train_x_e = train_x_d.copy()\n",
    "train_x_e[continuous_columns] = sc.transform(train_x_d[continuous_columns])\n",
    "train_x_e.head(2)"
   ]
  },
  {
   "cell_type": "code",
   "execution_count": 476,
   "metadata": {},
   "outputs": [],
   "source": [
    "test_x = test.drop('price', axis=1) #we have the test set same with the first assignemnt\n",
    "test_y = test['price']"
   ]
  },
  {
   "cell_type": "code",
   "execution_count": 477,
   "metadata": {},
   "outputs": [],
   "source": [
    "test_x.fillna(median, inplace=True) #Use train median to fill test data\n",
    "\n",
    "test_null_index = test_y.index[test_y.isnull()] #those steps on the test sets are same with the assignment 1.\n",
    "test_x.drop(test_null_index, inplace=True)\n",
    "test_y.drop(test_null_index, inplace=True)"
   ]
  },
  {
   "cell_type": "code",
   "execution_count": 478,
   "metadata": {},
   "outputs": [],
   "source": [
    "test_x = pd.get_dummies(test_x)\n",
    "test_x[continuous_columns] = sc.transform(test_x[continuous_columns])"
   ]
  },
  {
   "cell_type": "markdown",
   "metadata": {},
   "source": [
    "## KNN REGGRESSOR TO PREDICT CAR PRICES "
   ]
  },
  {
   "cell_type": "markdown",
   "metadata": {},
   "source": [
    "### a) Training Vs Validation Plot:"
   ]
  },
  {
   "cell_type": "code",
   "execution_count": 479,
   "metadata": {},
   "outputs": [],
   "source": [
    "import numpy as np\n",
    "from sklearn.model_selection import train_test_split\n",
    "from sklearn.model_selection import cross_val_score"
   ]
  },
  {
   "cell_type": "code",
   "execution_count": 480,
   "metadata": {},
   "outputs": [],
   "source": [
    "train_split_x, val_split_x, train_split_y, val_split_y = train_test_split(train_x_e, train_y, test_size=0.2, random_state=0)\n",
    "#By using train_test_split method, we splitted the train dataset into validation and train parts."
   ]
  },
  {
   "cell_type": "code",
   "execution_count": 481,
   "metadata": {},
   "outputs": [],
   "source": [
    "from sklearn.metrics import mean_squared_error\n",
    "from sklearn.neighbors import KNeighborsRegressor"
   ]
  },
  {
   "cell_type": "code",
   "execution_count": 482,
   "metadata": {
    "scrolled": true
   },
   "outputs": [],
   "source": [
    "knn_training_errors = []\n",
    "knn_validation_error = []\n",
    "neighbors = list(range(1, 30)) \n",
    "#For every integer value k between 1 and 30 create and record a KNN Regression model’s training and validation MSEs \n",
    "#where the KNN model’s number of neighbours is k.\n",
    "for k in neighbors:\n",
    "    knn = KNeighborsRegressor(n_neighbors=k)\n",
    "    knn.fit(train_split_x, train_split_y) #fit the knn regressor model with splitted training set for each k.\n",
    "    \n",
    "    prediction_train = knn.predict(train_split_x) #predict for train set\n",
    "    prediction_val = knn.predict(val_split_x) #predict for validation set\n",
    "    \n",
    "    mse_train = mean_squared_error( prediction_train, train_split_y) #calculate mean squared error for training set\n",
    "    knn_training_errors.append(mse_train)\n",
    "    mse_val = mean_squared_error(prediction_val,val_split_y) #calculate mean squared error for validation set\n",
    "    knn_validation_error.append(mse_val)\n"
   ]
  },
  {
   "cell_type": "code",
   "execution_count": 483,
   "metadata": {},
   "outputs": [],
   "source": [
    "import matplotlib.pyplot as plt"
   ]
  },
  {
   "cell_type": "code",
   "execution_count": 484,
   "metadata": {},
   "outputs": [],
   "source": [
    "# training vs validation plot"
   ]
  },
  {
   "cell_type": "code",
   "execution_count": 485,
   "metadata": {},
   "outputs": [
    {
     "data": {
      "text/plain": [
       "Text(0, 0.5, 'Misclassification Error for Validation and Training')"
      ]
     },
     "execution_count": 485,
     "metadata": {},
     "output_type": "execute_result"
    },
    {
     "data": {
      "image/png": "[encoded data removed]",
      "text/plain": [
       "<Figure size 432x288 with 1 Axes>"
      ]
     },
     "metadata": {
      "needs_background": "light"
     },
     "output_type": "display_data"
    }
   ],
   "source": [
    "#Plot the training and validation error with two different code block, one of them is shown below.\n",
    "plt.plot(np.sqrt(knn_training_errors), linewidth=2, label=\"train\")\n",
    "plt.plot(np.sqrt(knn_validation_error), linewidth=3, label=\"val\") \n",
    "plt.legend(loc=\"upper right\", fontsize=12)  \n",
    "plt.xlabel(\"Number of Neighbors K\", fontsize=12) \n",
    "plt.ylabel(\"Misclassification Error for Validation and Training\", fontsize=12)  "
   ]
  },
  {
   "cell_type": "code",
   "execution_count": 486,
   "metadata": {},
   "outputs": [
    {
     "data": {
      "text/plain": [
       "Text(0, 0.5, 'Misclassification Error for Validation and Training')"
      ]
     },
     "execution_count": 486,
     "metadata": {},
     "output_type": "execute_result"
    },
    {
     "data": {
      "image/png": "[encoded data removed]",
      "text/plain": [
       "<Figure size 432x288 with 1 Axes>"
      ]
     },
     "metadata": {
      "needs_background": "light"
     },
     "output_type": "display_data"
    }
   ],
   "source": [
    "#Another plot example to represent training and validation error.\n",
    "plt.plot(neighbors, knn_training_errors, knn_validation_error)\n",
    "plt.xlabel(\"Number of Neighbors K\")\n",
    "plt.ylabel(\"Misclassification Error for Validation and Training\")"
   ]
  },
  {
   "cell_type": "markdown",
   "metadata": {},
   "source": [
    "### b) Test your model:"
   ]
  },
  {
   "cell_type": "code",
   "execution_count": 487,
   "metadata": {},
   "outputs": [
    {
     "data": {
      "text/plain": [
       "2"
      ]
     },
     "execution_count": 487,
     "metadata": {},
     "output_type": "execute_result"
    }
   ],
   "source": [
    "#Get the best model with the minimum validation error.\n",
    "bst_n_estimators = np.argmin(knn_validation_error)\n",
    "bst_n_estimators"
   ]
  },
  {
   "cell_type": "code",
   "execution_count": 488,
   "metadata": {
    "ExecuteTime": {
     "end_time": "2019-12-13T17:59:49.282500Z",
     "start_time": "2019-12-13T17:59:49.277513Z"
    }
   },
   "outputs": [
    {
     "data": {
      "text/plain": [
       "KNeighborsRegressor(algorithm='auto', leaf_size=30, metric='minkowski',\n",
       "                    metric_params=None, n_jobs=None, n_neighbors=2, p=2,\n",
       "                    weights='uniform')"
      ]
     },
     "execution_count": 488,
     "metadata": {},
     "output_type": "execute_result"
    }
   ],
   "source": [
    "best_knn = KNeighborsRegressor(n_neighbors=2) #create new knn regressor model with best k value.\n",
    "best_knn.fit(test_x, test_y) #fit new model by using test sets."
   ]
  },
  {
   "cell_type": "code",
   "execution_count": 489,
   "metadata": {},
   "outputs": [
    {
     "data": {
      "text/plain": [
       "array([16136.03448276,  8638.79310345, 19409.86206897, 22683.34482759,\n",
       "       16623.34482759, 11538.31034483, 22981.93103448, 13556.75862069,\n",
       "       18797.48275862, 15839.86206897, 15477.10344828,  8213.87931034,\n",
       "        7977.24137931,  7038.        , 11072.89655172, 10986.93103448,\n",
       "       17087.03448276, 15984.55172414, 15496.82758621,  7125.5862069 ,\n",
       "        9048.06896552, 12466.5862069 , 11080.37931034, 10610.17241379,\n",
       "       18617.13793103, 12451.4137931 ,  6874.        ,  8958.86206897,\n",
       "        7289.17241379,  8030.62068966,  8977.75862069, 14592.06896552,\n",
       "       21587.55172414,  7903.51724138,  7038.48275862,  7885.5862069 ,\n",
       "        9752.89655172, 15403.65517241,  6918.86206897, 19578.89655172])"
      ]
     },
     "execution_count": 489,
     "metadata": {},
     "output_type": "execute_result"
    }
   ],
   "source": [
    "#Make prediction with test set.\n",
    "knn_preds = knn.predict(test_x)\n",
    "knn_preds"
   ]
  },
  {
   "cell_type": "code",
   "execution_count": 490,
   "metadata": {},
   "outputs": [
    {
     "name": "stdout",
     "output_type": "stream",
     "text": [
      "39120824.469366826\n"
     ]
    }
   ],
   "source": [
    "#calculate the mse for test set.\n",
    "knn_mse = mean_squared_error(knn_preds, test_y)\n",
    "print(knn_mse)"
   ]
  },
  {
   "cell_type": "markdown",
   "metadata": {},
   "source": [
    "## DECISION TREE REGRESSOR TO PREDICT CAR PRICES"
   ]
  },
  {
   "cell_type": "markdown",
   "metadata": {},
   "source": [
    "### c) Grid Search to find best model:"
   ]
  },
  {
   "cell_type": "code",
   "execution_count": 491,
   "metadata": {},
   "outputs": [],
   "source": [
    "from sklearn.model_selection import GridSearchCV\n",
    "from sklearn.tree import DecisionTreeRegressor"
   ]
  },
  {
   "cell_type": "code",
   "execution_count": 492,
   "metadata": {},
   "outputs": [],
   "source": [
    "#define the parameters for the grid search.\n",
    "params = {'max_depth':[None, 1, 5, 10], 'min_samples_split':[0.01, 0.05, 0.1, 0.3 ], \n",
    "        'max_leaf_nodes': [10, 50, 100, 250], 'max_features' : ['auto', 'sqrt', 'log2' ]}"
   ]
  },
  {
   "cell_type": "code",
   "execution_count": 493,
   "metadata": {},
   "outputs": [
    {
     "name": "stdout",
     "output_type": "stream",
     "text": [
      "Fitting 5 folds for each of 192 candidates, totalling 960 fits\n"
     ]
    },
    {
     "name": "stderr",
     "output_type": "stream",
     "text": [
      "[Parallel(n_jobs=1)]: Using backend SequentialBackend with 1 concurrent workers.\n",
      "[Parallel(n_jobs=1)]: Done 960 out of 960 | elapsed:    3.9s finished\n"
     ]
    },
    {
     "data": {
      "text/plain": [
       "GridSearchCV(cv=5, error_score='raise-deprecating',\n",
       "             estimator=DecisionTreeRegressor(criterion='mse', max_depth=None,\n",
       "                                             max_features=None,\n",
       "                                             max_leaf_nodes=None,\n",
       "                                             min_impurity_decrease=0.0,\n",
       "                                             min_impurity_split=None,\n",
       "                                             min_samples_leaf=1,\n",
       "                                             min_samples_split=2,\n",
       "                                             min_weight_fraction_leaf=0.0,\n",
       "                                             presort=False, random_state=0,\n",
       "                                             splitter='best'),\n",
       "             iid='warn', n_jobs=None,\n",
       "             param_grid={'max_depth': [None, 1, 5, 10],\n",
       "                         'max_features': ['auto', 'sqrt', 'log2'],\n",
       "                         'max_leaf_nodes': [10, 50, 100, 250],\n",
       "                         'min_samples_split': [0.01, 0.05, 0.1, 0.3]},\n",
       "             pre_dispatch='2*n_jobs', refit=True, return_train_score=False,\n",
       "             scoring='neg_mean_squared_error', verbose=1)"
      ]
     },
     "execution_count": 493,
     "metadata": {},
     "output_type": "execute_result"
    }
   ],
   "source": [
    "#Create a Decision Tree Regressor model and use it on Grid Search to find best combination.\n",
    "decision_tree_grid = GridSearchCV(DecisionTreeRegressor(random_state=0) , params,verbose=1, cv = 5, scoring='neg_mean_squared_error')\n",
    "decision_tree_grid.fit(train_x_e, train_y)"
   ]
  },
  {
   "cell_type": "markdown",
   "metadata": {},
   "source": [
    "### d) Test your model:"
   ]
  },
  {
   "cell_type": "code",
   "execution_count": 494,
   "metadata": {},
   "outputs": [
    {
     "data": {
      "text/plain": [
       "DecisionTreeRegressor(criterion='mse', max_depth=None, max_features='auto',\n",
       "                      max_leaf_nodes=50, min_impurity_decrease=0.0,\n",
       "                      min_impurity_split=None, min_samples_leaf=1,\n",
       "                      min_samples_split=0.1, min_weight_fraction_leaf=0.0,\n",
       "                      presort=False, random_state=0, splitter='best')"
      ]
     },
     "execution_count": 494,
     "metadata": {},
     "output_type": "execute_result"
    }
   ],
   "source": [
    "#find the best model by using grid search.\n",
    "decision_tree_grid.best_estimator_ "
   ]
  },
  {
   "cell_type": "code",
   "execution_count": 495,
   "metadata": {},
   "outputs": [
    {
     "data": {
      "text/plain": [
       "DecisionTreeRegressor(criterion='mse', max_depth=None, max_features=None,\n",
       "                      max_leaf_nodes=50, min_impurity_decrease=0.0,\n",
       "                      min_impurity_split=None, min_samples_leaf=1,\n",
       "                      min_samples_split=0.1, min_weight_fraction_leaf=0.0,\n",
       "                      presort=False, random_state=None, splitter='best')"
      ]
     },
     "execution_count": 495,
     "metadata": {},
     "output_type": "execute_result"
    }
   ],
   "source": [
    "#Create best model using the parameter that we found and fit it on the test sets.\n",
    "best_tree = DecisionTreeRegressor( max_leaf_nodes=50, min_samples_split=0.1, min_samples_leaf=1)\n",
    "best_tree.fit(test_x,test_y)"
   ]
  },
  {
   "cell_type": "code",
   "execution_count": 496,
   "metadata": {},
   "outputs": [],
   "source": [
    "#predict best tree model with test sets.\n",
    "tree_preds = best_tree.predict(test_x)"
   ]
  },
  {
   "cell_type": "code",
   "execution_count": 497,
   "metadata": {},
   "outputs": [
    {
     "name": "stdout",
     "output_type": "stream",
     "text": [
      "689896.9375\n"
     ]
    }
   ],
   "source": [
    "#calculate mean squared error on test sets.\n",
    "tree_mse = mean_squared_error(tree_preds, test_y)\n",
    "print(tree_mse)"
   ]
  },
  {
   "cell_type": "markdown",
   "metadata": {},
   "source": [
    "## ENSEMBLE BAGGING REGRESSOR TO PREDICT CAR PRICES"
   ]
  },
  {
   "cell_type": "markdown",
   "metadata": {},
   "source": [
    "### e) Grid Search to find best model:"
   ]
  },
  {
   "cell_type": "code",
   "execution_count": 498,
   "metadata": {},
   "outputs": [],
   "source": [
    "from sklearn.ensemble import BaggingRegressor\n",
    "from sklearn.linear_model import LinearRegression\n",
    "from sklearn.neighbors import KNeighborsRegressor"
   ]
  },
  {
   "cell_type": "code",
   "execution_count": 499,
   "metadata": {},
   "outputs": [],
   "source": [
    "#Define parameters for the Bagging Regressor model to use in Grid Search.\n",
    "param = {'base_estimator':[LinearRegression(), KNeighborsRegressor(), DecisionTreeRegressor(random_state=0)] , 'n_estimators':[25, 50, 100, 250],\n",
    "        'bootstrap_features':[False, True ]}"
   ]
  },
  {
   "cell_type": "code",
   "execution_count": 500,
   "metadata": {
    "ExecuteTime": {
     "end_time": "2019-12-13T18:09:52.935086Z",
     "start_time": "2019-12-13T18:09:52.931109Z"
    }
   },
   "outputs": [
    {
     "name": "stdout",
     "output_type": "stream",
     "text": [
      "Fitting 5 folds for each of 24 candidates, totalling 120 fits\n"
     ]
    },
    {
     "name": "stderr",
     "output_type": "stream",
     "text": [
      "[Parallel(n_jobs=1)]: Using backend SequentialBackend with 1 concurrent workers.\n",
      "[Parallel(n_jobs=1)]: Done 120 out of 120 | elapsed:   23.6s finished\n"
     ]
    },
    {
     "data": {
      "text/plain": [
       "GridSearchCV(cv=5, error_score='raise-deprecating',\n",
       "             estimator=BaggingRegressor(base_estimator=None, bootstrap=True,\n",
       "                                        bootstrap_features=False,\n",
       "                                        max_features=1.0, max_samples=1.0,\n",
       "                                        n_estimators=10, n_jobs=None,\n",
       "                                        oob_score=False, random_state=0,\n",
       "                                        verbose=0, warm_start=False),\n",
       "             iid='warn', n_jobs=None,\n",
       "             param_grid={'base_estimator': [LinearRegression(copy_X=True,\n",
       "                                                             fit_interce...\n",
       "                                                                  max_leaf_nodes=None,\n",
       "                                                                  min_impurity_decrease=0.0,\n",
       "                                                                  min_impurity_split=None,\n",
       "                                                                  min_samples_leaf=1,\n",
       "                                                                  min_samples_split=2,\n",
       "                                                                  min_weight_fraction_leaf=0.0,\n",
       "                                                                  presort=False,\n",
       "                                                                  random_state=0,\n",
       "                                                                  splitter='best')],\n",
       "                         'bootstrap_features': [False, True],\n",
       "                         'n_estimators': [25, 50, 100, 250]},\n",
       "             pre_dispatch='2*n_jobs', refit=True, return_train_score=False,\n",
       "             scoring='neg_mean_squared_error', verbose=1)"
      ]
     },
     "execution_count": 500,
     "metadata": {},
     "output_type": "execute_result"
    }
   ],
   "source": [
    "#Create BaggingRegressor model in GridSearchCV to find best combination.\n",
    "bag_grid = GridSearchCV(BaggingRegressor(random_state = 0), param, verbose=1, cv = 5, scoring='neg_mean_squared_error')\n",
    "bag_grid.fit(train_x_e,train_y)"
   ]
  },
  {
   "cell_type": "markdown",
   "metadata": {},
   "source": [
    "### f) Test your model:"
   ]
  },
  {
   "cell_type": "code",
   "execution_count": 501,
   "metadata": {},
   "outputs": [
    {
     "data": {
      "text/plain": [
       "BaggingRegressor(base_estimator=DecisionTreeRegressor(criterion='mse',\n",
       "                                                      max_depth=None,\n",
       "                                                      max_features=None,\n",
       "                                                      max_leaf_nodes=None,\n",
       "                                                      min_impurity_decrease=0.0,\n",
       "                                                      min_impurity_split=None,\n",
       "                                                      min_samples_leaf=1,\n",
       "                                                      min_samples_split=2,\n",
       "                                                      min_weight_fraction_leaf=0.0,\n",
       "                                                      presort=False,\n",
       "                                                      random_state=0,\n",
       "                                                      splitter='best'),\n",
       "                 bootstrap=True, bootstrap_features=True, max_features=1.0,\n",
       "                 max_samples=1.0, n_estimators=25, n_jobs=None, oob_score=False,\n",
       "                 random_state=0, verbose=0, warm_start=False)"
      ]
     },
     "execution_count": 501,
     "metadata": {},
     "output_type": "execute_result"
    }
   ],
   "source": [
    "#find the best estimator model in terms of bagging model.\n",
    "bag_grid.best_estimator_"
   ]
  },
  {
   "cell_type": "code",
   "execution_count": 502,
   "metadata": {},
   "outputs": [
    {
     "data": {
      "text/plain": [
       "BaggingRegressor(base_estimator=DecisionTreeRegressor(criterion='mse',\n",
       "                                                      max_depth=None,\n",
       "                                                      max_features=None,\n",
       "                                                      max_leaf_nodes=None,\n",
       "                                                      min_impurity_decrease=0.0,\n",
       "                                                      min_impurity_split=None,\n",
       "                                                      min_samples_leaf=1,\n",
       "                                                      min_samples_split=2,\n",
       "                                                      min_weight_fraction_leaf=0.0,\n",
       "                                                      presort=False,\n",
       "                                                      random_state=0,\n",
       "                                                      splitter='best'),\n",
       "                 bootstrap=True, bootstrap_features=False, max_features=1.0,\n",
       "                 max_samples=1.0, n_estimators=25, n_jobs=None, oob_score=False,\n",
       "                 random_state=None, verbose=0, warm_start=False)"
      ]
     },
     "execution_count": 502,
     "metadata": {},
     "output_type": "execute_result"
    }
   ],
   "source": [
    "#Create best bagging model using the parameters that we found above and fit this model on test sets.\n",
    "best_bag = BaggingRegressor(DecisionTreeRegressor(random_state=0), n_estimators=25,bootstrap=True,max_features=1.0)\n",
    "best_bag.fit(test_x,test_y)"
   ]
  },
  {
   "cell_type": "code",
   "execution_count": 503,
   "metadata": {},
   "outputs": [],
   "source": [
    "#Make prediction using test set.\n",
    "bag_preds = best_bag.predict(test_x)"
   ]
  },
  {
   "cell_type": "code",
   "execution_count": 504,
   "metadata": {},
   "outputs": [
    {
     "name": "stdout",
     "output_type": "stream",
     "text": [
      "3483396.6377599984\n"
     ]
    }
   ],
   "source": [
    "#Calculate the mean squared error of best bagging model.\n",
    "bag_mse = mean_squared_error(bag_preds, test_y)\n",
    "print(bag_mse)"
   ]
  },
  {
   "cell_type": "markdown",
   "metadata": {},
   "source": [
    "## RANDOM FOREST REGRESSOR TO PREDICT CAR PRICES"
   ]
  },
  {
   "cell_type": "markdown",
   "metadata": {},
   "source": [
    "### g) Grid Search to find best model:"
   ]
  },
  {
   "cell_type": "code",
   "execution_count": 505,
   "metadata": {},
   "outputs": [],
   "source": [
    "from sklearn.ensemble import RandomForestRegressor"
   ]
  },
  {
   "cell_type": "code",
   "execution_count": 506,
   "metadata": {},
   "outputs": [],
   "source": [
    "#Define parameters for Random Forest Regressor.\n",
    "paramf = {'n_estimators':[25, 50, 100, 250 ], 'max_depth':[None, 1, 5, 10 ]}"
   ]
  },
  {
   "cell_type": "code",
   "execution_count": 507,
   "metadata": {},
   "outputs": [
    {
     "name": "stdout",
     "output_type": "stream",
     "text": [
      "Fitting 5 folds for each of 16 candidates, totalling 80 fits\n"
     ]
    },
    {
     "name": "stderr",
     "output_type": "stream",
     "text": [
      "[Parallel(n_jobs=1)]: Using backend SequentialBackend with 1 concurrent workers.\n",
      "[Parallel(n_jobs=1)]: Done  80 out of  80 | elapsed:   11.4s finished\n"
     ]
    },
    {
     "data": {
      "text/plain": [
       "GridSearchCV(cv=5, error_score='raise-deprecating',\n",
       "             estimator=RandomForestRegressor(bootstrap=True, criterion='mse',\n",
       "                                             max_depth=None,\n",
       "                                             max_features='auto',\n",
       "                                             max_leaf_nodes=None,\n",
       "                                             min_impurity_decrease=0.0,\n",
       "                                             min_impurity_split=None,\n",
       "                                             min_samples_leaf=1,\n",
       "                                             min_samples_split=2,\n",
       "                                             min_weight_fraction_leaf=0.0,\n",
       "                                             n_estimators='warn', n_jobs=None,\n",
       "                                             oob_score=False, random_state=0,\n",
       "                                             verbose=0, warm_start=False),\n",
       "             iid='warn', n_jobs=None,\n",
       "             param_grid={'max_depth': [None, 1, 5, 10],\n",
       "                         'n_estimators': [25, 50, 100, 250]},\n",
       "             pre_dispatch='2*n_jobs', refit=True, return_train_score=False,\n",
       "             scoring='neg_mean_squared_error', verbose=1)"
      ]
     },
     "execution_count": 507,
     "metadata": {},
     "output_type": "execute_result"
    }
   ],
   "source": [
    "#Create RandomForestRegressor model and use it in GridSearchCv to find best combination.\n",
    "random_forest_grid = GridSearchCV(RandomForestRegressor(random_state=0), paramf, verbose=1, cv = 5, scoring='neg_mean_squared_error')\n",
    "random_forest_grid.fit(train_x_e, train_y)"
   ]
  },
  {
   "cell_type": "markdown",
   "metadata": {},
   "source": [
    "### h) Test your model:"
   ]
  },
  {
   "cell_type": "code",
   "execution_count": 508,
   "metadata": {},
   "outputs": [
    {
     "data": {
      "text/plain": [
       "RandomForestRegressor(bootstrap=True, criterion='mse', max_depth=None,\n",
       "                      max_features='auto', max_leaf_nodes=None,\n",
       "                      min_impurity_decrease=0.0, min_impurity_split=None,\n",
       "                      min_samples_leaf=1, min_samples_split=2,\n",
       "                      min_weight_fraction_leaf=0.0, n_estimators=250,\n",
       "                      n_jobs=None, oob_score=False, random_state=0, verbose=0,\n",
       "                      warm_start=False)"
      ]
     },
     "execution_count": 508,
     "metadata": {},
     "output_type": "execute_result"
    }
   ],
   "source": [
    "#Find the best estimator model with parameters.\n",
    "random_forest_grid.best_estimator_"
   ]
  },
  {
   "cell_type": "code",
   "execution_count": 509,
   "metadata": {},
   "outputs": [
    {
     "data": {
      "text/plain": [
       "RandomForestRegressor(bootstrap=True, criterion='mse', max_depth=None,\n",
       "                      max_features='auto', max_leaf_nodes=None,\n",
       "                      min_impurity_decrease=0.0, min_impurity_split=None,\n",
       "                      min_samples_leaf=1, min_samples_split=2,\n",
       "                      min_weight_fraction_leaf=0.0, n_estimators=250,\n",
       "                      n_jobs=None, oob_score=False, random_state=0, verbose=0,\n",
       "                      warm_start=False)"
      ]
     },
     "execution_count": 509,
     "metadata": {},
     "output_type": "execute_result"
    }
   ],
   "source": [
    "#Create Random Forest Regressor model using parameters that we found above and fit them on test sets.\n",
    "best_random_forest = RandomForestRegressor(n_estimators=250, oob_score=False, random_state=0)\n",
    "best_random_forest.fit(test_x, test_y)"
   ]
  },
  {
   "cell_type": "code",
   "execution_count": 510,
   "metadata": {},
   "outputs": [],
   "source": [
    "#Make prediction with test set.\n",
    "random_forest_preds = best_random_forest.predict(test_x)"
   ]
  },
  {
   "cell_type": "code",
   "execution_count": 511,
   "metadata": {},
   "outputs": [
    {
     "name": "stdout",
     "output_type": "stream",
     "text": [
      "2305726.9405217\n"
     ]
    }
   ],
   "source": [
    "#Calculate mean squared error.\n",
    "random_forest_mse = mean_squared_error(random_forest_preds, test_y)\n",
    "print(random_forest_mse)"
   ]
  },
  {
   "cell_type": "markdown",
   "metadata": {},
   "source": [
    "### i) Feature Importances:"
   ]
  },
  {
   "cell_type": "code",
   "execution_count": 512,
   "metadata": {},
   "outputs": [
    {
     "name": "stdout",
     "output_type": "stream",
     "text": [
      "[0.6566409626237941, 0.09948504489351767, 0.07099115609742605]\n"
     ]
    }
   ],
   "source": [
    "#Get the 3 most important features by finding max 3 features from best random forest model.\n",
    "top_3_rf_features=[]\n",
    "for features in np.sort(best_random_forest.feature_importances_)[-1:-4:-1]:\n",
    "    top_3_rf_features.append(features)\n",
    "print(top_3_rf_features)"
   ]
  },
  {
   "cell_type": "code",
   "execution_count": null,
   "metadata": {},
   "outputs": [],
   "source": []
  }
 ],
 "metadata": {
  "kernelspec": {
   "display_name": "Python 3",
   "language": "python",
   "name": "python3"
  },
  "language_info": {
   "codemirror_mode": {
    "name": "ipython",
    "version": 3
   },
   "file_extension": ".py",
   "mimetype": "text/x-python",
   "name": "python",
   "nbconvert_exporter": "python",
   "pygments_lexer": "ipython3",
   "version": "3.7.4"
  },
  "toc": {
   "base_numbering": 1,
   "nav_menu": {},
   "number_sections": false,
   "sideBar": true,
   "skip_h1_title": false,
   "title_cell": "Table of Contents",
   "title_sidebar": "Contents",
   "toc_cell": false,
   "toc_position": {
    "height": "calc(100% - 180px)",
    "left": "10px",
    "top": "150px",
    "width": "284.444px"
   },
   "toc_section_display": true,
   "toc_window_display": false
  },
  "varInspector": {
   "cols": {
    "lenName": 16,
    "lenType": 16,
    "lenVar": 40
   },
   "kernels_config": {
    "python": {
     "delete_cmd_postfix": "",
     "delete_cmd_prefix": "del ",
     "library": "var_list.py",
     "varRefreshCmd": "print(var_dic_list())"
    },
    "r": {
     "delete_cmd_postfix": ") ",
     "delete_cmd_prefix": "rm(",
     "library": "var_list.r",
     "varRefreshCmd": "cat(var_dic_list()) "
    }
   },
   "types_to_exclude": [
    "module",
    "function",
    "builtin_function_or_method",
    "instance",
    "_Feature"
   ],
   "window_display": false
  }
 },
 "nbformat": 4,
 "nbformat_minor": 2
}
